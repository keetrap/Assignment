{
 "cells": [
  {
   "cell_type": "markdown",
   "metadata": {},
   "source": [
    "# Preping the Dataset"
   ]
  },
  {
   "cell_type": "code",
   "execution_count": 1,
   "metadata": {},
   "outputs": [
    {
     "data": {
      "application/vnd.jupyter.widget-view+json": {
       "model_id": "6c29a8fa098f4729bc62f6580b0d6a24",
       "version_major": 2,
       "version_minor": 0
      },
      "text/plain": [
       "Resolving data files:   0%|          | 0/738 [00:00<?, ?it/s]"
      ]
     },
     "metadata": {},
     "output_type": "display_data"
    },
    {
     "data": {
      "application/vnd.jupyter.widget-view+json": {
       "model_id": "406d4933a1394271b3c76573ce23c4da",
       "version_major": 2,
       "version_minor": 0
      },
      "text/plain": [
       "Resolving data files:   0%|          | 0/738 [00:00<?, ?it/s]"
      ]
     },
     "metadata": {},
     "output_type": "display_data"
    },
    {
     "name": "stdout",
     "output_type": "stream",
     "text": [
      "IterableDataset({\n",
      "    features: ['text', 'llm_generated_idea'],\n",
      "    n_shards: 738\n",
      "})\n"
     ]
    }
   ],
   "source": [
    "from datasets import load_dataset\n",
    "import pandas as pd\n",
    "\n",
    "dataset = load_dataset(\"HuggingFaceM4/WebSight\",split=\"train\",streaming=True,columns=['text','llm_generated_idea'])\n",
    "print(dataset)"
   ]
  },
  {
   "cell_type": "code",
   "execution_count": 2,
   "metadata": {},
   "outputs": [],
   "source": [
    "data = []\n",
    "i=0\n",
    "for x in dataset:\n",
    "    # Downloading only 20000 rows form the dataset\n",
    "    if i==20000:\n",
    "      break\n",
    "    down_data = {key: value for key, value in x.items()}\n",
    "    if down_data['text'] and down_data['llm_generated_idea']:\n",
    "        data.append(down_data)\n",
    "    i+=1\n",
    "df = pd.DataFrame(data)\n"
   ]
  },
  {
   "cell_type": "code",
   "execution_count": 3,
   "metadata": {},
   "outputs": [
    {
     "data": {
      "text/plain": [
       "(20000, 2)"
      ]
     },
     "execution_count": 3,
     "metadata": {},
     "output_type": "execute_result"
    }
   ],
   "source": [
    "df.shape"
   ]
  },
  {
   "cell_type": "markdown",
   "metadata": {},
   "source": [
    "### For Stable Code Instruct Model\n",
    "\n",
    "- **BOS Token**: `<|endoftext|>` \n",
    "- **EOS Token**: `<|endoftext|>`\n"
   ]
  },
  {
   "cell_type": "code",
   "execution_count": 4,
   "metadata": {},
   "outputs": [],
   "source": [
    "df['text'] = '<|endoftext|>' + 'Generate website code html, css and javascript as given instructions for a ' + df['llm_generated_idea'] + df['text'] + '<|endoftext|>'\n",
    "new_df = df[['text']]"
   ]
  },
  {
   "cell_type": "code",
   "execution_count": 5,
   "metadata": {},
   "outputs": [
    {
     "data": {
      "text/plain": [
       "'<|endoftext|>Generate website code html, css and javascript as given instructions for a Fashion Brand: A visually stunning layout with a full-width, rotating image carousel showcasing their latest collections, a bold, center-aligned logo, and a bottom navigation menu. The color palette is inspired by the latest fashion trends.<html>\\n<link href=\"https://cdn.jsdelivr.net/npm/tailwindcss@2.2.19/dist/tailwind.min.css\" rel=\"stylesheet\">\\n<body class=\"bg-gray-100\">\\n  <div class=\"flex flex-col items-center justify-center h-screen\">\\n    <h1 class=\"text-4xl font-bold text-center text-gray-800\">Fashion Brand</h1>\\n    <p class=\"mt-4 text-lg text-center text-gray-600\">\\n      Fashion Brand is a leading fashion brand that offers a wide range of high-quality, stylish clothing and accessories. Our collections are designed to reflect the latest fashion trends and are made from high-quality materials. We are committed to providing our customers with the best possible shopping experience and we strive to make our collections accessible to all.\\n    </p>\\n    <div class=\"mt-8\">\\n      <img src=\"https://source.unsplash.com/random/300x200/?fashion\" alt=\"Fashion Brand\" class=\"rounded\">\\n    </div>\\n    <div class=\"mt-8\">\\n      <nav class=\"flex justify-center space-x-4\">\\n        <a href=\"#\" class=\"px-4 py-2 text-white bg-gray-500 rounded hover:bg-gray-600\">Home</a>\\n        <a href=\"#\" class=\"px-4 py-2 text-white bg-gray-500 rounded hover:bg-gray-600\">About</a>\\n        <a href=\"#\" class=\"px-4 py-2 text-white bg-gray-500 rounded hover:bg-gray-600\">Contact</a>\\n      </nav>\\n    </div>\\n  </div>\\n</body>\\n</html><|endoftext|>'"
      ]
     },
     "execution_count": 5,
     "metadata": {},
     "output_type": "execute_result"
    }
   ],
   "source": [
    "new_df['text'][0]"
   ]
  },
  {
   "cell_type": "code",
   "execution_count": 6,
   "metadata": {},
   "outputs": [],
   "source": [
    "new_df.to_csv('final_data.csv', index=False)"
   ]
  }
 ],
 "metadata": {
  "kernelspec": {
   "display_name": "Python 3",
   "language": "python",
   "name": "python3"
  },
  "language_info": {
   "codemirror_mode": {
    "name": "ipython",
    "version": 3
   },
   "file_extension": ".py",
   "mimetype": "text/x-python",
   "name": "python",
   "nbconvert_exporter": "python",
   "pygments_lexer": "ipython3",
   "version": "3.12.1"
  }
 },
 "nbformat": 4,
 "nbformat_minor": 2
}
